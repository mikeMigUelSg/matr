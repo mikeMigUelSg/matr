{
 "cells": [
  {
   "cell_type": "code",
   "execution_count": null,
   "id": "694cb463-c1e5-4923-b92a-0d3908726f62",
   "metadata": {},
   "outputs": [],
   "source": [
    "import scipy.io\n",
    "\n",
    "# Load a .mat file\n",
    "data = scipy.io.loadmat('filename.mat')\n",
    "\n",
    "# Access variables (data is a dictionary)\n",
    "print(data.keys())  # See available variables\n",
    "variable_name = data['variable_name']"
   ]
  }
 ],
 "metadata": {
  "kernelspec": {
   "display_name": "Python 3 (ipykernel)",
   "language": "python",
   "name": "python3"
  },
  "language_info": {
   "codemirror_mode": {
    "name": "ipython",
    "version": 3
   },
   "file_extension": ".py",
   "mimetype": "text/x-python",
   "name": "python",
   "nbconvert_exporter": "python",
   "pygments_lexer": "ipython3",
   "version": "3.9.23"
  }
 },
 "nbformat": 4,
 "nbformat_minor": 5
}
