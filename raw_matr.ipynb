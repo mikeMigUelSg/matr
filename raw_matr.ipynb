{
 "cells": [
  {
   "cell_type": "code",
   "execution_count": 13,
   "id": "694cb463-c1e5-4923-b92a-0d3908726f62",
   "metadata": {},
   "outputs": [
    {
     "name": "stdout",
     "output_type": "stream",
     "text": [
      "Main variables: ['batch', 'batch_date']\n",
      "\n",
      "=== BATCH GROUP ===\n",
      "Batch type: <class 'h5py._hl.group.Group'>\n",
      "Items in batch: ['Vdlin', 'barcode', 'channel_id', 'cycle_life', 'cycles', 'policy', 'policy_readable', 'summary']\n",
      "\n",
      "'Vdlin':\n",
      "  Type: <class 'h5py._hl.dataset.Dataset'>\n",
      "  Shape: (46, 1)\n",
      "  Dtype: object\n",
      "\n",
      "'barcode':\n",
      "  Type: <class 'h5py._hl.dataset.Dataset'>\n",
      "  Shape: (46, 1)\n",
      "  Dtype: object\n",
      "\n",
      "'channel_id':\n",
      "  Type: <class 'h5py._hl.dataset.Dataset'>\n",
      "  Shape: (46, 1)\n",
      "  Dtype: object\n",
      "\n",
      "'cycle_life':\n",
      "  Type: <class 'h5py._hl.dataset.Dataset'>\n",
      "  Shape: (46, 1)\n",
      "  Dtype: object\n",
      "\n",
      "'cycles':\n",
      "  Type: <class 'h5py._hl.dataset.Dataset'>\n",
      "  Shape: (46, 1)\n",
      "  Dtype: object\n",
      "\n",
      "'policy':\n",
      "  Type: <class 'h5py._hl.dataset.Dataset'>\n",
      "  Shape: (46, 1)\n",
      "  Dtype: object\n",
      "\n",
      "'policy_readable':\n",
      "  Type: <class 'h5py._hl.dataset.Dataset'>\n",
      "  Shape: (46, 1)\n",
      "  Dtype: object\n",
      "\n",
      "'summary':\n",
      "  Type: <class 'h5py._hl.dataset.Dataset'>\n",
      "  Shape: (46, 1)\n",
      "  Dtype: object\n"
     ]
    }
   ],
   "source": [
    "import h5py\n",
    "import numpy as np\n",
    "\n",
    "# Explore the group structure\n",
    "with h5py.File(src + filename, 'r') as f:\n",
    "    print(\"Main variables:\", [key for key in f.keys() if not key.startswith('#')])\n",
    "    \n",
    "    # Explore the 'batch' group\n",
    "    print(\"\\n=== BATCH GROUP ===\")\n",
    "    batch = f['batch']\n",
    "    print(f\"Batch type: {type(batch)}\")\n",
    "    print(f\"Items in batch: {list(batch.keys())}\")\n",
    "    \n",
    "    # Explore each item in the batch group\n",
    "    for key in batch.keys():\n",
    "        item = batch[key]\n",
    "        print(f\"\\n'{key}':\")\n",
    "        print(f\"  Type: {type(item)}\")\n",
    "        \n",
    "        if hasattr(item, 'shape'):\n",
    "            print(f\"  Shape: {item.shape}\")\n",
    "            print(f\"  Dtype: {item.dtype}\")\n",
    "        elif hasattr(item, 'keys'):\n",
    "            print(f\"  Sub-items: {list(item.keys())}\")"
   ]
  },
  {
   "cell_type": "code",
   "execution_count": 16,
   "id": "5b044f8a-cd20-433a-8ca5-d9bc9dcdc67f",
   "metadata": {},
   "outputs": [
    {
     "name": "stdout",
     "output_type": "stream",
     "text": [
      "Summary data type: <class 'h5py._hl.group.Group'>\n",
      "Summary fields: ['IR', 'QCharge', 'QDischarge', 'Tavg', 'Tmax', 'Tmin', 'chargetime', 'cycle']\n",
      "  IR: shape (1, 1189)\n",
      "  QCharge: shape (1, 1189)\n",
      "  QDischarge: shape (1, 1189)\n",
      "  Tavg: shape (1, 1189)\n",
      "  Tmax: shape (1, 1189)\n",
      "  Tmin: shape (1, 1189)\n",
      "  chargetime: shape (1, 1189)\n",
      "  cycle: shape (1, 1189)\n"
     ]
    }
   ],
   "source": [
    "# Get summary data for first battery\n",
    "with h5py.File(src + filename, 'r') as f:\n",
    "    batch = f['batch']\n",
    "    \n",
    "    summary_refs = batch['summary']\n",
    "    first_battery_summary_ref = summary_refs[0, 0]\n",
    "    summary_data = f[first_battery_summary_ref]\n",
    "    \n",
    "    print(f\"Summary data type: {type(summary_data)}\")\n",
    "    if hasattr(summary_data, 'keys'):\n",
    "        print(f\"Summary fields: {list(summary_data.keys())}\")\n",
    "        \n",
    "        # Look at each summary field\n",
    "        for field in summary_data.keys():\n",
    "            field_data = summary_data[field]\n",
    "            print(f\"  {field}: shape {field_data.shape}\")"
   ]
  },
  {
   "cell_type": "code",
   "execution_count": 7,
   "id": "d376d5d2-963e-4679-967e-a9eb68da48dd",
   "metadata": {},
   "outputs": [
    {
     "data": {
      "text/plain": [
       "['raw']"
      ]
     },
     "execution_count": 7,
     "metadata": {},
     "output_type": "execute_result"
    }
   ],
   "source": [
    "os.listdir('battery_data')"
   ]
  },
  {
   "cell_type": "code",
   "execution_count": 18,
   "id": "bddbdfc7-2ef1-4875-bdb3-d173bbe64645",
   "metadata": {},
   "outputs": [
    {
     "name": "stdout",
     "output_type": "stream",
     "text": [
      "First battery policy: 3_6C-80PER_3_6C\n",
      "\n",
      "=== CYCLES DATA ===\n",
      "Cycles data type: <class 'h5py._hl.group.Group'>\n",
      "Cycle data fields: ['I', 'Qc', 'Qd', 'Qdlin', 'T', 'Tdlin', 'V', 'discharge_dQdV', 't']\n",
      "\n",
      "  I:\n",
      "    Type: <class 'h5py._hl.dataset.Dataset'>\n",
      "    Shape: (1189, 1)\n",
      "    Dtype: object\n",
      "\n",
      "  Qc:\n",
      "    Type: <class 'h5py._hl.dataset.Dataset'>\n",
      "    Shape: (1189, 1)\n",
      "    Dtype: object\n",
      "\n",
      "  Qd:\n",
      "    Type: <class 'h5py._hl.dataset.Dataset'>\n",
      "    Shape: (1189, 1)\n",
      "    Dtype: object\n",
      "\n",
      "  Qdlin:\n",
      "    Type: <class 'h5py._hl.dataset.Dataset'>\n",
      "    Shape: (1189, 1)\n",
      "    Dtype: object\n",
      "\n",
      "  T:\n",
      "    Type: <class 'h5py._hl.dataset.Dataset'>\n",
      "    Shape: (1189, 1)\n",
      "    Dtype: object\n",
      "\n",
      "  Tdlin:\n",
      "    Type: <class 'h5py._hl.dataset.Dataset'>\n",
      "    Shape: (1189, 1)\n",
      "    Dtype: object\n",
      "\n",
      "  V:\n",
      "    Type: <class 'h5py._hl.dataset.Dataset'>\n",
      "    Shape: (1189, 1)\n",
      "    Dtype: object\n",
      "\n",
      "  discharge_dQdV:\n",
      "    Type: <class 'h5py._hl.dataset.Dataset'>\n",
      "    Shape: (1189, 1)\n",
      "    Dtype: object\n",
      "\n",
      "  t:\n",
      "    Type: <class 'h5py._hl.dataset.Dataset'>\n",
      "    Shape: (1189, 1)\n",
      "    Dtype: object\n"
     ]
    }
   ],
   "source": [
    "import h5py\n",
    "import numpy as np\n",
    "\n",
    "with h5py.File(src + filename, 'r') as f:\n",
    "    batch = f['batch']\n",
    "    \n",
    "    # Decode the policy (ASCII characters)\n",
    "    policy_refs = batch['policy']\n",
    "    first_battery_policy_ref = policy_refs[0, 0]\n",
    "    policy_data = f[first_battery_policy_ref][:]\n",
    "    policy_string = ''.join([chr(int(x)) for x in policy_data.flatten()])\n",
    "    print(f\"First battery policy: {policy_string}\")\n",
    "    \n",
    "    # Get cycles data structure\n",
    "    print(\"\\n=== CYCLES DATA ===\")\n",
    "    cycles_refs = batch['cycles']\n",
    "    first_battery_cycles_ref = cycles_refs[0, 0]\n",
    "    cycles_data = f[first_battery_cycles_ref]\n",
    "    \n",
    "    print(f\"Cycles data type: {type(cycles_data)}\")\n",
    "    print(f\"Cycle data fields: {list(cycles_data.keys())}\")\n",
    "    \n",
    "    # Look at each field in cycles\n",
    "    for field in cycles_data.keys():\n",
    "        field_data = cycles_data[field]\n",
    "        print(f\"\\n  {field}:\")\n",
    "        print(f\"    Type: {type(field_data)}\")\n",
    "        \n",
    "        if hasattr(field_data, 'shape'):\n",
    "            print(f\"    Shape: {field_data.shape}\")\n",
    "            print(f\"    Dtype: {field_data.dtype}\")\n",
    "            \n",
    "            # If it's small enough, show some data\n",
    "            if field_data.size < 50 and field_data.dtype != 'object':\n",
    "                print(f\"    Sample data: {field_data[:5].flatten()}\")\n",
    "        elif hasattr(field_data, 'keys'):\n",
    "            print(f\"    Sub-fields: {list(field_data.keys())}\")"
   ]
  },
  {
   "cell_type": "code",
   "execution_count": null,
   "id": "419363ee-ef8c-40b9-9750-19ba8f5d3d34",
   "metadata": {},
   "outputs": [],
   "source": []
  }
 ],
 "metadata": {
  "kernelspec": {
   "display_name": "Python 3 (ipykernel)",
   "language": "python",
   "name": "python3"
  },
  "language_info": {
   "codemirror_mode": {
    "name": "ipython",
    "version": 3
   },
   "file_extension": ".py",
   "mimetype": "text/x-python",
   "name": "python",
   "nbconvert_exporter": "python",
   "pygments_lexer": "ipython3",
   "version": "3.9.23"
  }
 },
 "nbformat": 4,
 "nbformat_minor": 5
}
